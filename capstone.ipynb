{
 "cells": [
  {
   "cell_type": "code",
   "execution_count": null,
   "metadata": {},
   "outputs": [],
   "source": [
    "# basic dataframe and operations\n",
    "import pandas as pd\n",
    "import numpy as np\n",
    "\n",
    "# visualization\n",
    "import matplotlib.pyplot as plt\n",
    "import seaborn as sns\n",
    "\n",
    "# manipulation and preprocessing\n",
    "from sklearn.preprocessing import StandardScaler\n",
    "from sklearn.model_selection import train_test_split, cross_val_score\n",
    "from sklearn.feature_selection import SelectFromModel\n",
    "\n",
    "# models\n",
    "from sklearn.linear_model import LogisticRegression\n",
    "from sklearn.svm import SVC\n",
    "from sklearn.tree import DecisionTreeClassifier\n",
    "from sklearn.ensemble import RandomForestClassifier\n",
    "from sklearn.neighbors import KNeighborsClassifier\n",
    "from sklearn.ensemble import VotingClassifier\n",
    "\n",
    "# measuring results\n",
    "from sklearn.metrics import accuracy_score, f1_score, confusion_matrix, mean_absolute_error, roc_auc_score, precision_score, recall_score, classification_report\n",
    "from sklearn.model_selection import cross_val_score\n",
    "from sklearn.model_selection import RandomizedSearchCV\n",
    "\n",
    "# warning suppression\n",
    "import warnings\n",
    "from sklearn.exceptions import ConvergenceWarning"
   ]
  },
  {
   "cell_type": "code",
   "execution_count": null,
   "metadata": {},
   "outputs": [],
   "source": [
    "    # Import the csv training dataset to a pandas dataframe\n",
    "# The dataset is expected in the same directory as this notebook\n",
    "#   under a subfolder path datasets/\n",
    "data_raw_input = pd.read_csv('datasets/train.csv')\n",
    "# Show the shape of the dataset\n",
    "data_raw_input.shape\n"
   ]
  },
  {
   "cell_type": "code",
   "execution_count": null,
   "metadata": {},
   "outputs": [],
   "source": [
    "# Display a few rows from the training data\n",
    "data_raw_input.head(20)"
   ]
  },
  {
   "cell_type": "code",
   "execution_count": null,
   "metadata": {},
   "outputs": [],
   "source": [
    "# Get the count of nulls per column\n",
    "# Turns out we don't have any\n",
    "print(\"Nulls:\")\n",
    "print(data_raw_input.isnull().sum().sum())\n",
    "print(\"Na count:\")\n",
    "print(data_raw_input.isna().sum().sum())\n",
    "print(\"Duplicate rows:\")\n",
    "print(data_raw_input.duplicated(keep='first').sum())"
   ]
  }
 ],
 "metadata": {
  "kernelspec": {
   "display_name": "uwf-venv-breast-cancer",
   "language": "python",
   "name": "uwf-venv-breast-cancer"
  },
  "language_info": {
   "name": "python",
   "version": "3.12.7"
  }
 },
 "nbformat": 4,
 "nbformat_minor": 2
}
